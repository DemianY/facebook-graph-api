{
 "cells": [
  {
   "cell_type": "markdown",
   "metadata": {},
   "source": [
    "# Instalando a SDK do Facebook para Python"
   ]
  },
  {
   "cell_type": "markdown",
   "metadata": {},
   "source": [
    "Para os exemplos desse notebook iremos utilizar a biblioteca do Facebook para Python.\n",
    "\n",
    "Mais informações podem ser conferidas na documentação: https://facebook-sdk.readthedocs.io/en/latest/index.html"
   ]
  },
  {
   "cell_type": "code",
   "execution_count": 3,
   "metadata": {},
   "outputs": [
    {
     "name": "stdout",
     "output_type": "stream",
     "text": [
      "Collecting facebook-sdk\n",
      "  Downloading https://files.pythonhosted.org/packages/79/d7/4cb0f5930f79205cc45db22e17fa716396d813c3d6b8d5de77783a5fa59a/facebook_sdk-3.1.0-py2.py3-none-any.whl\n",
      "Requirement already satisfied: requests in c:\\users\\jcalv\\anaconda3\\lib\\site-packages (from facebook-sdk) (2.21.0)\n",
      "Requirement already satisfied: urllib3<1.25,>=1.21.1 in c:\\users\\jcalv\\anaconda3\\lib\\site-packages (from requests->facebook-sdk) (1.24.1)\n",
      "Requirement already satisfied: certifi>=2017.4.17 in c:\\users\\jcalv\\anaconda3\\lib\\site-packages (from requests->facebook-sdk) (2018.11.29)\n",
      "Requirement already satisfied: chardet<3.1.0,>=3.0.2 in c:\\users\\jcalv\\anaconda3\\lib\\site-packages (from requests->facebook-sdk) (3.0.4)\n",
      "Requirement already satisfied: idna<2.9,>=2.5 in c:\\users\\jcalv\\anaconda3\\lib\\site-packages (from requests->facebook-sdk) (2.8)\n",
      "Installing collected packages: facebook-sdk\n",
      "Successfully installed facebook-sdk-3.1.0\n"
     ]
    }
   ],
   "source": [
    "!pip install facebook-sdk"
   ]
  },
  {
   "cell_type": "code",
   "execution_count": 1,
   "metadata": {},
   "outputs": [],
   "source": [
    "import facebook as fb"
   ]
  },
  {
   "cell_type": "markdown",
   "metadata": {},
   "source": [
    "# Autenticando o APP"
   ]
  },
  {
   "cell_type": "markdown",
   "metadata": {},
   "source": [
    "Para coletarmos informações relacionadas ao usuário vamos usar o token de usuário gerado na GRAPH API"
   ]
  },
  {
   "cell_type": "code",
   "execution_count": 2,
   "metadata": {},
   "outputs": [],
   "source": [
    "token= 'insira o seu token aqui'"
   ]
  },
  {
   "cell_type": "code",
   "execution_count": 3,
   "metadata": {},
   "outputs": [],
   "source": [
    "graph = fb.GraphAPI(token)"
   ]
  },
  {
   "cell_type": "markdown",
   "metadata": {},
   "source": [
    "Agora podemos verificar se somos capazes de acessar as informações do nosso próprio usuário."
   ]
  },
  {
   "cell_type": "code",
   "execution_count": 4,
   "metadata": {},
   "outputs": [],
   "source": [
    "profile = graph.get_object(\"me\")"
   ]
  },
  {
   "cell_type": "code",
   "execution_count": 5,
   "metadata": {},
   "outputs": [
    {
     "data": {
      "text/plain": [
       "{'name': 'Júlio C. Oliveira', 'id': '2221772204572402'}"
      ]
     },
     "execution_count": 5,
     "metadata": {},
     "output_type": "execute_result"
    }
   ],
   "source": [
    "profile"
   ]
  },
  {
   "cell_type": "code",
   "execution_count": 113,
   "metadata": {},
   "outputs": [
    {
     "name": "stdout",
     "output_type": "stream",
     "text": [
      "True\n"
     ]
    }
   ],
   "source": [
    "permissions = graph.get_permissions(user_id=2221772204572402)\n",
    "print('public_profile' in permissions)"
   ]
  },
  {
   "cell_type": "code",
   "execution_count": 114,
   "metadata": {},
   "outputs": [
    {
     "data": {
      "text/plain": [
       "{'manage_pages',\n",
       " 'pages_messaging',\n",
       " 'pages_show_list',\n",
       " 'public_profile',\n",
       " 'publish_pages',\n",
       " 'publish_video',\n",
       " 'user_events',\n",
       " 'user_friends',\n",
       " 'user_hometown',\n",
       " 'user_likes',\n",
       " 'user_photos',\n",
       " 'user_posts',\n",
       " 'user_status'}"
      ]
     },
     "execution_count": 114,
     "metadata": {},
     "output_type": "execute_result"
    }
   ],
   "source": [
    "permissions"
   ]
  },
  {
   "cell_type": "markdown",
   "metadata": {},
   "source": [
    "# Dados do usuário"
   ]
  },
  {
   "cell_type": "markdown",
   "metadata": {},
   "source": [
    "A postagem de conteúdos no feed é desabilitada por padrão para usuários"
   ]
  },
  {
   "cell_type": "code",
   "execution_count": 8,
   "metadata": {
    "scrolled": true
   },
   "outputs": [
    {
     "ename": "GraphAPIError",
     "evalue": "(#200) If posting to a group, requires app being installed in the group, and \\\n          either publish_to_groups permission with user token, or both manage_pages \\\n          and publish_pages permission with page token; If posting to a page, \\\n          requires both manage_pages and publish_pages as an admin with \\\n          sufficient administrative permission",
     "output_type": "error",
     "traceback": [
      "\u001b[1;31m---------------------------------------------------------------------------\u001b[0m",
      "\u001b[1;31mGraphAPIError\u001b[0m                             Traceback (most recent call last)",
      "\u001b[1;32m<ipython-input-8-2addfa3de8be>\u001b[0m in \u001b[0;36m<module>\u001b[1;34m\u001b[0m\n\u001b[1;32m----> 1\u001b[1;33m \u001b[0mgraph\u001b[0m\u001b[1;33m.\u001b[0m\u001b[0mput_object\u001b[0m\u001b[1;33m(\u001b[0m\u001b[1;34m\"me\"\u001b[0m\u001b[1;33m,\u001b[0m \u001b[1;34m\"feed\"\u001b[0m\u001b[1;33m,\u001b[0m \u001b[0mmessage\u001b[0m\u001b[1;33m=\u001b[0m\u001b[1;34m\"I am writing on my wall!\"\u001b[0m\u001b[1;33m)\u001b[0m\u001b[1;33m\u001b[0m\u001b[1;33m\u001b[0m\u001b[0m\n\u001b[0m",
      "\u001b[1;32m~\\Anaconda3\\lib\\site-packages\\facebook\\__init__.py\u001b[0m in \u001b[0;36mput_object\u001b[1;34m(self, parent_object, connection_name, **data)\u001b[0m\n\u001b[0;32m    190\u001b[0m             \u001b[1;34m\"{0}/{1}/{2}\"\u001b[0m\u001b[1;33m.\u001b[0m\u001b[0mformat\u001b[0m\u001b[1;33m(\u001b[0m\u001b[0mself\u001b[0m\u001b[1;33m.\u001b[0m\u001b[0mversion\u001b[0m\u001b[1;33m,\u001b[0m \u001b[0mparent_object\u001b[0m\u001b[1;33m,\u001b[0m \u001b[0mconnection_name\u001b[0m\u001b[1;33m)\u001b[0m\u001b[1;33m,\u001b[0m\u001b[1;33m\u001b[0m\u001b[1;33m\u001b[0m\u001b[0m\n\u001b[0;32m    191\u001b[0m             \u001b[0mpost_args\u001b[0m\u001b[1;33m=\u001b[0m\u001b[0mdata\u001b[0m\u001b[1;33m,\u001b[0m\u001b[1;33m\u001b[0m\u001b[1;33m\u001b[0m\u001b[0m\n\u001b[1;32m--> 192\u001b[1;33m             \u001b[0mmethod\u001b[0m\u001b[1;33m=\u001b[0m\u001b[1;34m\"POST\"\u001b[0m\u001b[1;33m,\u001b[0m\u001b[1;33m\u001b[0m\u001b[1;33m\u001b[0m\u001b[0m\n\u001b[0m\u001b[0;32m    193\u001b[0m         )\n\u001b[0;32m    194\u001b[0m \u001b[1;33m\u001b[0m\u001b[0m\n",
      "\u001b[1;32m~\\Anaconda3\\lib\\site-packages\\facebook\\__init__.py\u001b[0m in \u001b[0;36mrequest\u001b[1;34m(self, path, args, post_args, files, method)\u001b[0m\n\u001b[0;32m    311\u001b[0m \u001b[1;33m\u001b[0m\u001b[0m\n\u001b[0;32m    312\u001b[0m         \u001b[1;32mif\u001b[0m \u001b[0mresult\u001b[0m \u001b[1;32mand\u001b[0m \u001b[0misinstance\u001b[0m\u001b[1;33m(\u001b[0m\u001b[0mresult\u001b[0m\u001b[1;33m,\u001b[0m \u001b[0mdict\u001b[0m\u001b[1;33m)\u001b[0m \u001b[1;32mand\u001b[0m \u001b[0mresult\u001b[0m\u001b[1;33m.\u001b[0m\u001b[0mget\u001b[0m\u001b[1;33m(\u001b[0m\u001b[1;34m\"error\"\u001b[0m\u001b[1;33m)\u001b[0m\u001b[1;33m:\u001b[0m\u001b[1;33m\u001b[0m\u001b[1;33m\u001b[0m\u001b[0m\n\u001b[1;32m--> 313\u001b[1;33m             \u001b[1;32mraise\u001b[0m \u001b[0mGraphAPIError\u001b[0m\u001b[1;33m(\u001b[0m\u001b[0mresult\u001b[0m\u001b[1;33m)\u001b[0m\u001b[1;33m\u001b[0m\u001b[1;33m\u001b[0m\u001b[0m\n\u001b[0m\u001b[0;32m    314\u001b[0m         \u001b[1;32mreturn\u001b[0m \u001b[0mresult\u001b[0m\u001b[1;33m\u001b[0m\u001b[1;33m\u001b[0m\u001b[0m\n\u001b[0;32m    315\u001b[0m \u001b[1;33m\u001b[0m\u001b[0m\n",
      "\u001b[1;31mGraphAPIError\u001b[0m: (#200) If posting to a group, requires app being installed in the group, and \\\n          either publish_to_groups permission with user token, or both manage_pages \\\n          and publish_pages permission with page token; If posting to a page, \\\n          requires both manage_pages and publish_pages as an admin with \\\n          sufficient administrative permission"
     ]
    }
   ],
   "source": [
    "graph.put_object(\"me\", \"feed\", message=\"I am writing on my wall!\")"
   ]
  },
  {
   "cell_type": "markdown",
   "metadata": {},
   "source": [
    "A Graph API permite recuperar dados públicos de usuários e páginas, mas é necessário solicitar avaliação do Facebook para ter essa permissão no app."
   ]
  },
  {
   "cell_type": "code",
   "execution_count": 9,
   "metadata": {},
   "outputs": [],
   "source": [
    "user = \"BillGates\""
   ]
  },
  {
   "cell_type": "code",
   "execution_count": 10,
   "metadata": {
    "scrolled": true
   },
   "outputs": [
    {
     "ename": "GraphAPIError",
     "evalue": "(#10) To use 'Page Public Content Access', your use of this endpoint must be reviewed and approved by Facebook. To submit this 'Page Public Content Access' feature for review please read our documentation on reviewable features: https://developers.facebook.com/docs/apps/review.",
     "output_type": "error",
     "traceback": [
      "\u001b[1;31m---------------------------------------------------------------------------\u001b[0m",
      "\u001b[1;31mGraphAPIError\u001b[0m                             Traceback (most recent call last)",
      "\u001b[1;32m<ipython-input-10-5fd9bf729042>\u001b[0m in \u001b[0;36m<module>\u001b[1;34m\u001b[0m\n\u001b[1;32m----> 1\u001b[1;33m \u001b[0mprofile\u001b[0m \u001b[1;33m=\u001b[0m \u001b[0mgraph\u001b[0m\u001b[1;33m.\u001b[0m\u001b[0mget_object\u001b[0m\u001b[1;33m(\u001b[0m\u001b[0muser\u001b[0m\u001b[1;33m)\u001b[0m\u001b[1;33m\u001b[0m\u001b[1;33m\u001b[0m\u001b[0m\n\u001b[0m",
      "\u001b[1;32m~\\Anaconda3\\lib\\site-packages\\facebook\\__init__.py\u001b[0m in \u001b[0;36mget_object\u001b[1;34m(self, id, **args)\u001b[0m\n\u001b[0;32m    124\u001b[0m     \u001b[1;32mdef\u001b[0m \u001b[0mget_object\u001b[0m\u001b[1;33m(\u001b[0m\u001b[0mself\u001b[0m\u001b[1;33m,\u001b[0m \u001b[0mid\u001b[0m\u001b[1;33m,\u001b[0m \u001b[1;33m**\u001b[0m\u001b[0margs\u001b[0m\u001b[1;33m)\u001b[0m\u001b[1;33m:\u001b[0m\u001b[1;33m\u001b[0m\u001b[1;33m\u001b[0m\u001b[0m\n\u001b[0;32m    125\u001b[0m         \u001b[1;34m\"\"\"Fetches the given object from the graph.\"\"\"\u001b[0m\u001b[1;33m\u001b[0m\u001b[1;33m\u001b[0m\u001b[0m\n\u001b[1;32m--> 126\u001b[1;33m         \u001b[1;32mreturn\u001b[0m \u001b[0mself\u001b[0m\u001b[1;33m.\u001b[0m\u001b[0mrequest\u001b[0m\u001b[1;33m(\u001b[0m\u001b[1;34m\"{0}/{1}\"\u001b[0m\u001b[1;33m.\u001b[0m\u001b[0mformat\u001b[0m\u001b[1;33m(\u001b[0m\u001b[0mself\u001b[0m\u001b[1;33m.\u001b[0m\u001b[0mversion\u001b[0m\u001b[1;33m,\u001b[0m \u001b[0mid\u001b[0m\u001b[1;33m)\u001b[0m\u001b[1;33m,\u001b[0m \u001b[0margs\u001b[0m\u001b[1;33m)\u001b[0m\u001b[1;33m\u001b[0m\u001b[1;33m\u001b[0m\u001b[0m\n\u001b[0m\u001b[0;32m    127\u001b[0m \u001b[1;33m\u001b[0m\u001b[0m\n\u001b[0;32m    128\u001b[0m     \u001b[1;32mdef\u001b[0m \u001b[0mget_objects\u001b[0m\u001b[1;33m(\u001b[0m\u001b[0mself\u001b[0m\u001b[1;33m,\u001b[0m \u001b[0mids\u001b[0m\u001b[1;33m,\u001b[0m \u001b[1;33m**\u001b[0m\u001b[0margs\u001b[0m\u001b[1;33m)\u001b[0m\u001b[1;33m:\u001b[0m\u001b[1;33m\u001b[0m\u001b[1;33m\u001b[0m\u001b[0m\n",
      "\u001b[1;32m~\\Anaconda3\\lib\\site-packages\\facebook\\__init__.py\u001b[0m in \u001b[0;36mrequest\u001b[1;34m(self, path, args, post_args, files, method)\u001b[0m\n\u001b[0;32m    311\u001b[0m \u001b[1;33m\u001b[0m\u001b[0m\n\u001b[0;32m    312\u001b[0m         \u001b[1;32mif\u001b[0m \u001b[0mresult\u001b[0m \u001b[1;32mand\u001b[0m \u001b[0misinstance\u001b[0m\u001b[1;33m(\u001b[0m\u001b[0mresult\u001b[0m\u001b[1;33m,\u001b[0m \u001b[0mdict\u001b[0m\u001b[1;33m)\u001b[0m \u001b[1;32mand\u001b[0m \u001b[0mresult\u001b[0m\u001b[1;33m.\u001b[0m\u001b[0mget\u001b[0m\u001b[1;33m(\u001b[0m\u001b[1;34m\"error\"\u001b[0m\u001b[1;33m)\u001b[0m\u001b[1;33m:\u001b[0m\u001b[1;33m\u001b[0m\u001b[1;33m\u001b[0m\u001b[0m\n\u001b[1;32m--> 313\u001b[1;33m             \u001b[1;32mraise\u001b[0m \u001b[0mGraphAPIError\u001b[0m\u001b[1;33m(\u001b[0m\u001b[0mresult\u001b[0m\u001b[1;33m)\u001b[0m\u001b[1;33m\u001b[0m\u001b[1;33m\u001b[0m\u001b[0m\n\u001b[0m\u001b[0;32m    314\u001b[0m         \u001b[1;32mreturn\u001b[0m \u001b[0mresult\u001b[0m\u001b[1;33m\u001b[0m\u001b[1;33m\u001b[0m\u001b[0m\n\u001b[0;32m    315\u001b[0m \u001b[1;33m\u001b[0m\u001b[0m\n",
      "\u001b[1;31mGraphAPIError\u001b[0m: (#10) To use 'Page Public Content Access', your use of this endpoint must be reviewed and approved by Facebook. To submit this 'Page Public Content Access' feature for review please read our documentation on reviewable features: https://developers.facebook.com/docs/apps/review."
     ]
    }
   ],
   "source": [
    "profile = graph.get_object(user)"
   ]
  },
  {
   "cell_type": "markdown",
   "metadata": {},
   "source": [
    "# Paginando os resultados"
   ]
  },
  {
   "cell_type": "markdown",
   "metadata": {},
   "source": [
    "A quantidade de dados retornados em uma chamada é limitada, sendo assim para recuperarmos todas as informações em chamadas maiores utilizamos a paginação."
   ]
  },
  {
   "cell_type": "code",
   "execution_count": 13,
   "metadata": {},
   "outputs": [],
   "source": [
    "profile = graph.get_object(\"me\")"
   ]
  },
  {
   "cell_type": "markdown",
   "metadata": {},
   "source": [
    "O método abaixo retorna todos os posts do usuário."
   ]
  },
  {
   "cell_type": "code",
   "execution_count": 15,
   "metadata": {},
   "outputs": [],
   "source": [
    "posts = graph.get_connections(profile[\"id\"], \"posts\")"
   ]
  },
  {
   "cell_type": "code",
   "execution_count": 16,
   "metadata": {
    "scrolled": true
   },
   "outputs": [
    {
     "data": {
      "text/plain": [
       "{'data': [{'message': 'Uma ótima dica para quem quer aprender um pouco mais sobre o mundo de tecnologia, são os cursos da Alura Cursos Online.  \\n\\nAproveita essa oportunidade, confere esse  curso de Machine Learning no Marketing Digital que tive o prazer de construir com essa galera.',\n",
       "   'created_time': '2019-05-09T23:46:30+0000',\n",
       "   'id': '2221772204572402_2213959718686984'},\n",
       "  {'message': '\"...a educação das crianças não se limita a memorizar informações e fatos. O conhecimento existe em um contexto, numa abordagem que, necessariamente, envolve o desenvolvimento emocional, social, intelectual, moral e físico do aluno.\"',\n",
       "   'created_time': '2019-01-08T10:16:24+0000',\n",
       "   'id': '2221772204572402_2037517616331196'},\n",
       "  {'message': 'Sera se agora temos pote de bitcoin no final do arco-íris? #home #sp',\n",
       "   'created_time': '2018-11-24T21:38:09+0000',\n",
       "   'id': '2221772204572402_1975631722519786'},\n",
       "  {'message': 'A culpa é dos quadrúpedes, espera, é dos anfíbios, digo é da direita, me enganei é da esquerda, e assim vai.',\n",
       "   'created_time': '2018-10-16T23:28:26+0000',\n",
       "   'id': '2221772204572402_1922999594449666'},\n",
       "  {'created_time': '2018-10-01T09:45:39+0000',\n",
       "   'id': '2221772204572402_1903323496417276'},\n",
       "  {'message': 'O texto é curto, mas a mensagem é clara.',\n",
       "   'created_time': '2018-09-08T20:30:15+0000',\n",
       "   'id': '2221772204572402_1876787345737558'},\n",
       "  {'message': 'Projeto Jarbas\\n-Etapa 1✔\\nControlar tv e ar condicionado por infravermelho.',\n",
       "   'created_time': '2018-07-15T14:00:48+0000',\n",
       "   'id': '2221772204572402_1791821927567434'},\n",
       "  {'message': 'Levantando algumas possibilidades do que fazer com esse Raspberry:\\n\\na) Fazer um fliperama.\\nb) Criar a versão brasileira do Jarvis.\\nc) Conquistar um país pequeno.\\nd) Competir com o Elon Musk em algum mercado.',\n",
       "   'created_time': '2018-06-08T00:01:58+0000',\n",
       "   'id': '2221772204572402_1737361263013501'},\n",
       "  {'created_time': '2018-05-31T00:39:45+0000',\n",
       "   'id': '2221772204572402_1729551087127852'},\n",
       "  {'message': 'Transmissão ao vivo aqui no Facebook, imperdível!',\n",
       "   'created_time': '2018-05-16T18:52:46+0000',\n",
       "   'id': '2221772204572402_1714616945287933'},\n",
       "  {'created_time': '2018-05-03T00:44:20+0000',\n",
       "   'id': '2221772204572402_1700876173328677'},\n",
       "  {'created_time': '2018-04-06T22:02:48+0000',\n",
       "   'id': '2221772204572402_1674079516008343'},\n",
       "  {'message': 'Sensacional!',\n",
       "   'created_time': '2018-04-04T22:15:02+0000',\n",
       "   'id': '2221772204572402_1672077969541831'},\n",
       "  {'created_time': '2018-03-26T17:49:57+0000',\n",
       "   'id': '2221772204572402_1662777673805194'},\n",
       "  {'created_time': '2018-03-24T23:52:29+0000',\n",
       "   'id': '2221772204572402_1661052400644388'},\n",
       "  {'created_time': '2018-03-20T11:58:39+0000',\n",
       "   'id': '2221772204572402_1656478017768493'},\n",
       "  {'message': 'O hacker do mal é o próximo desempregado. Não precisa invadir mais nada, basta perguntar ao usuário (solicitar acesso a suas informações), que ele te diz tudo.',\n",
       "   'created_time': '2018-03-18T14:29:49+0000',\n",
       "   'id': '2221772204572402_1654523967963898'},\n",
       "  {'message': 'Genial!',\n",
       "   'created_time': '2018-01-26T20:39:02+0000',\n",
       "   'id': '2221772204572402_1600852849997677'},\n",
       "  {'message': 'Parece que o Google tirou 10 no Teste de Turing.',\n",
       "   'created_time': '2017-12-28T21:10:40+0000',\n",
       "   'id': '2221772204572402_1572751302807832'},\n",
       "  {'created_time': '2017-12-14T18:42:16+0000',\n",
       "   'id': '2221772204572402_1559863560763273'},\n",
       "  {'created_time': '2017-11-17T13:55:20+0000',\n",
       "   'id': '2221772204572402_1532917540124542'},\n",
       "  {'message': 'Stay hungry, stay foolish! #Data #MuitoData #DatacomBorra',\n",
       "   'created_time': '2017-11-03T20:47:14+0000',\n",
       "   'id': '2221772204572402_1520385028044460'},\n",
       "  {'created_time': '2017-10-29T02:10:21+0000',\n",
       "   'id': '2221772204572402_1515234481892848'},\n",
       "  {'created_time': '2017-10-28T18:57:27+0000',\n",
       "   'id': '2221772204572402_1514971051919191'},\n",
       "  {'message': 'Python API Teste - FIA 2017',\n",
       "   'created_time': '2017-10-18T22:00:09+0000',\n",
       "   'id': '2221772204572402_1506073439475619'}],\n",
       " 'paging': {'previous': 'https://graph.facebook.com/v3.3/2221772204572402/posts?since=1557445590&access_token=EAAFlbR4iAoMBACd5dBUMvGP0tZChHV8GUbJ2P9nQJ4p0nYVHzkvQiBjAYNbghUPHKEpjNoCadsx4Rpp3VuTWDIQMYfI4hHaNthbZChNpn7v5Vh6nFJSCrMAMu5V2vZBZA7ZAnlLJVQQRsiMY7qQSZCXTDdcZBoX0nqHQJFsZAloWmdwdvf27hZBsEnmGtwVBZCYmDYZC9RBlcVdGwZDZD&limit=25&__paging_token=enc_AdBCNS2kRQKJ33lfv1V2TtZAJWZCV8aMvjOj8dipPavU24MQVbPU9qEhN12fcoxlvMEfiJtgrkEQnvuByq4lehYEldq4vnDNds4i6O5c1PRQBhYgZDZD&__previous=1',\n",
       "  'next': 'https://graph.facebook.com/v3.3/2221772204572402/posts?access_token=EAAFlbR4iAoMBACd5dBUMvGP0tZChHV8GUbJ2P9nQJ4p0nYVHzkvQiBjAYNbghUPHKEpjNoCadsx4Rpp3VuTWDIQMYfI4hHaNthbZChNpn7v5Vh6nFJSCrMAMu5V2vZBZA7ZAnlLJVQQRsiMY7qQSZCXTDdcZBoX0nqHQJFsZAloWmdwdvf27hZBsEnmGtwVBZCYmDYZC9RBlcVdGwZDZD&limit=25&until=1508364009&__paging_token=enc_AdCEOq4T0f7EZCNfa4uo9QsCij1wfxi3gq5Ye33RaEdvrrQMfVsc9lZBlQApKlMKrDi3S7yq3k3cFSDcSzRLXJ5SoIScq57QZCZAxSziZAjI3oecsbgZDZD'}}"
      ]
     },
     "execution_count": 16,
     "metadata": {},
     "output_type": "execute_result"
    }
   ],
   "source": [
    "posts"
   ]
  },
  {
   "cell_type": "markdown",
   "metadata": {},
   "source": [
    "Olhando a chave \"pagingin\" e depois \"next\" podemos notar uma url, que podemos abrir com o próprio navegador e verificar que ela contém a continuação da chamada anterior."
   ]
  },
  {
   "cell_type": "code",
   "execution_count": 17,
   "metadata": {},
   "outputs": [
    {
     "data": {
      "text/plain": [
       "'https://graph.facebook.com/v3.3/2221772204572402/posts?access_token=EAAFlbR4iAoMBACd5dBUMvGP0tZChHV8GUbJ2P9nQJ4p0nYVHzkvQiBjAYNbghUPHKEpjNoCadsx4Rpp3VuTWDIQMYfI4hHaNthbZChNpn7v5Vh6nFJSCrMAMu5V2vZBZA7ZAnlLJVQQRsiMY7qQSZCXTDdcZBoX0nqHQJFsZAloWmdwdvf27hZBsEnmGtwVBZCYmDYZC9RBlcVdGwZDZD&limit=25&until=1508364009&__paging_token=enc_AdCEOq4T0f7EZCNfa4uo9QsCij1wfxi3gq5Ye33RaEdvrrQMfVsc9lZBlQApKlMKrDi3S7yq3k3cFSDcSzRLXJ5SoIScq57QZCZAxSziZAjI3oecsbgZDZD'"
      ]
     },
     "execution_count": 17,
     "metadata": {},
     "output_type": "execute_result"
    }
   ],
   "source": [
    "posts[\"paging\"][\"next\"]"
   ]
  },
  {
   "cell_type": "markdown",
   "metadata": {},
   "source": [
    "Vamos utilizar a biblioteca requests para fazer chamadas http, do mesmo modo que fizemos com o nosso navegador para abrir a url anterior."
   ]
  },
  {
   "cell_type": "code",
   "execution_count": null,
   "metadata": {},
   "outputs": [],
   "source": [
    "import requests"
   ]
  },
  {
   "cell_type": "code",
   "execution_count": 19,
   "metadata": {},
   "outputs": [],
   "source": [
    "posts = requests.get(posts[\"paging\"][\"next\"])"
   ]
  },
  {
   "cell_type": "code",
   "execution_count": 20,
   "metadata": {},
   "outputs": [
    {
     "data": {
      "text/plain": [
       "{'data': [{'created_time': '2017-10-11T10:11:39+0000',\n",
       "   'id': '2221772204572402_1499321606817469'},\n",
       "  {'created_time': '2017-09-14T22:41:51+0000',\n",
       "   'id': '2221772204572402_1477188119030818'},\n",
       "  {'created_time': '2017-09-13T23:40:30+0000',\n",
       "   'id': '2221772204572402_1476371459112484'},\n",
       "  {'message': 'Nosso cotidiano! #muchmore #fiat #jeep \\n\\n',\n",
       "   'created_time': '2017-09-07T14:58:59+0000',\n",
       "   'id': '2221772204572402_1471214706294826'},\n",
       "  {'created_time': '2017-08-22T23:13:32+0000',\n",
       "   'id': '2221772204572402_1458156344267329'},\n",
       "  {'created_time': '2017-08-11T21:58:54+0000',\n",
       "   'id': '2221772204572402_1448779951871635'},\n",
       "  {'message': 'Sim, \\n\\nestamos no Catraca Livre! :)\\n\\n',\n",
       "   'created_time': '2017-05-16T19:23:13+0000',\n",
       "   'id': '2221772204572402_1362480753834889'},\n",
       "  {'message': '\"Há alguns meses vinha sentindo a necessidade (e vontade) de aprender um pouco mais sobre o Excel. Tive a oportunidade de fazer o curso com o Júlio e fiquei muito feliz com o resultado, especialmente por ter me dado um grande auxílio para o meu trabalho na área jurídica. Sou grata pelos ensinamentos e recomendo o Curso de Análise e Visualização de dados com o Excel para todos que queiram utilizar essa ferramenta.\" Gabriela Campanate - Sicoob\\n\\nA proxima história de sucesso pode ser a sua, acesse ExcelLive.org e agende uma aula grátis!\\n\\n#melhoresalunos',\n",
       "   'created_time': '2017-05-04T19:28:13+0000',\n",
       "   'id': '2221772204572402_1352531418163156'},\n",
       "  {'message': 'Acesse ExcelLive.org e agende gratuitamente,uma hora de aula, feita individualmente, por vídeo conferência e sobre o assunto que você quiser aprender no Excel!\\n\\n#excellive',\n",
       "   'created_time': '2017-05-02T14:46:01+0000',\n",
       "   'id': '2221772204572402_1350657091683922'},\n",
       "  {'message': '\"O curso me fez entender, de forma simples e dinâmica, diferentes vertentes que se pode ter com um simples conjunto de dados, instigando a sua curiosidade para explorar caminhos não pensados. Outro ponto positivo é ter exemplos voltados a minha área de aplicação, deixando mais claro a linha de raciocínio, forma de aplicação, sem mencionar todo o suporte e disposição que o professor Júlio me deu ao longo das aulas. O curso certo para quem deseja aprender a aplicar de forma eficiente em diversos âmbitos a análise de dados.\" - Bárbara Martins\\n\\n#melhoresalunos #satisfação',\n",
       "   'created_time': '2017-04-27T15:01:24+0000',\n",
       "   'id': '2221772204572402_1346495595433405'},\n",
       "  {'message': '\"O curso me fez entender, de forma simples e dinâmica, diferentes vertentes que se pode ter com um simples conjunto de dados, instigando a sua curiosidade para explorar caminhos não pensados. Outro ponto positivo é ter exemplos voltados a minha área de aplicação, deixando mais claro a linha de raciocínio, forma de aplicação, sem mencionar todo o suporte e disposição que o professor Júlio me deu ao longo das aulas. O curso certo para quem deseja aprender a aplicar de forma eficiente em diversos âmbitos a análise de dados.\" - Bárbara Martins\\n\\n#melhoresalunos #satisfação',\n",
       "   'created_time': '2017-04-27T15:01:14+0000',\n",
       "   'id': '2221772204572402_1346495518766746'},\n",
       "  {'created_time': '2017-04-25T12:19:22+0000',\n",
       "   'id': '2221772204572402_1344703855612579'},\n",
       "  {'message': 'Primeiro dia de ExcelLive.org no ar, acesso de mais de 30 cidades do Brasil e do mundo!\\n\\nObrigado a todos!\\n\\n#sucesso',\n",
       "   'created_time': '2017-04-20T11:58:44+0000',\n",
       "   'id': '2221772204572402_1340053662744265'},\n",
       "  {'message': 'Aula grátis de Análise de Dados com Excel para todos! www.excellive.org\\n\\nApós 6 meses de muito trabalho, o tão esperado dia 18-04-2017 chegou. Um dia que será marcado pela mudança na forma de aprendizado a distância. O dia do lançamento do ExcelLive.org!\\n\\nSempre fui crítico dos métodos de ensino mais tradicionais, apesar de entender a importância destes em determinadas ocasiões. O modelo de ensino que temos acesso hoje se baseia na PADRONIZAÇÃO, onde se escolhe um modelo de sucesso e aplica-se em outros ambientes. \\n\\nComo engenheiro de produção e cientista de dados, adoro a Padronização, mas prefiro deixá-la para as indústrias e máquinas. Como professor, escolhi ver cada aluno como um ser ÚNICO e me desafiar  a cada novo aluno para crescermos juntos.\\n\\nO Excel Live é a realização de um sonho, temos o orgulho de ser o primeiro curso de Análise de Dados com Excel oferecido online, individualmente, com aulas ao vivo e conteúdo personalizável. Também, estamos cumprindo um importante papel social oferecendo uma hora de aula particular e ao vivo para qualquer pessoa do Brasil.\\n\\nObrigado a todos que de certa forma contribuíram para o sucesso desse projeto.\\n\\n#enjoy\\nwww.excellive.org',\n",
       "   'created_time': '2017-04-18T19:56:32+0000',\n",
       "   'id': '2221772204572402_1338482962901335'},\n",
       "  {'message': 'O SEU PALPITE VALE PRÊMIO!\\n\\nO nosso amigo do Acre, sumiu e deixou um mistério para desvendarmos, no entanto, não deixou nenhum prêmio para o vencedor.\\n\\nAgora eu vou lançar um desafio melhor, estou lançando um curso online dia 18-04-2017, quem conseguir descrever melhor esse projeto aqui nos comentários, vai ganhar UM CURSO COMPLETO no dia do lançamento!\\n#tavalendo #descubra #waitforit',\n",
       "   'created_time': '2017-04-11T19:49:46+0000',\n",
       "   'id': '2221772204572402_1332051346877830'},\n",
       "  {'message': 'As suas definições de aprender online serão atualizadas! 18-04-2017\\n #novidadeschegando #waitforit #descubra',\n",
       "   'created_time': '2017-04-09T13:00:38+0000',\n",
       "   'id': '2221772204572402_1329907987092166'},\n",
       "  {'message': '\"A educaçao é a arma mais poderosa que você pode usar para mudar o mundo\" - Nelson Mandela',\n",
       "   'created_time': '2017-04-07T10:16:25+0000',\n",
       "   'id': '2221772204572402_1327887737294191'},\n",
       "  {'message': 'Utilidade pública!',\n",
       "   'created_time': '2017-04-04T16:55:01+0000',\n",
       "   'id': '2221772204572402_1325074700908828'},\n",
       "  {'created_time': '2017-04-02T13:07:58+0000',\n",
       "   'id': '2221772204572402_1323105611105737'},\n",
       "  {'created_time': '2017-03-16T22:02:24+0000',\n",
       "   'id': '2221772204572402_1308560539226911'},\n",
       "  {'message': '\"Fiz o curso de Análise de Visualização de Dados com Excel com Júlio César e indico, pois o curso vai muito além de ensinar como usar a ferramenta, ele permite que o aluno veja as oportunidades por traz dos dados.\" Carla, Trainee Novo Nordisk.\\n\\nSeja você também proficiente em Excel e desenvolva o seu raciocínio analítico!\\n\\nVagas para turmas em Março.\\n\\n(38) 99256-4455',\n",
       "   'created_time': '2017-03-08T23:21:47+0000',\n",
       "   'id': '2221772204572402_1300568160026149'},\n",
       "  {'created_time': '2017-02-19T13:01:54+0000',\n",
       "   'id': '2221772204572402_1281676501915315'},\n",
       "  {'message': 'Parabéns aos idealizadores do projeto. Inteligência Artificial a favor da sociedade!\\n\\nVocê pode apoiar essa causa: https://apoia.se/serenata',\n",
       "   'created_time': '2017-02-05T13:32:18+0000',\n",
       "   'id': '2221772204572402_1268939586522340'},\n",
       "  {'message': 'Boa noite!\\n\\nAnálise e Visualização de Dados com Excel é para todos!\\n\\nO curso é dividido em dois Módulos, cada um com carga horária de 20h. O primeiro módulo  é voltado para alunos com pouca ou nenhuma experiência com Excel, já o segundo módulo foi desenvolvido para alunos que concluíram o primeiro módulo ou pessoas que já trabalham com Excel.\\n\\nAlém disso, o preço é super acessível e os horários flexíveis para quem trabalha ou estuda.\\n\\nUltimas vagas para turmas começando em dezembro. \\n\\nEstou a disposição para maiores dúvidas!\\n\\nMuito obrigado\\nAtt.\\nJúlio César \\n(38) 99256-4455',\n",
       "   'created_time': '2016-11-28T20:47:36+0000',\n",
       "   'id': '2221772204572402_1198806966868936'},\n",
       "  {'created_time': '2016-11-28T20:39:46+0000',\n",
       "   'id': '2221772204572402_1198804213535878'}],\n",
       " 'paging': {'previous': 'https://graph.facebook.com/v3.3/2221772204572402/posts?limit=25&__paging_token=enc_AdAPQW4ZCIExVb9bhSiMGmWP213Lgtcg1o9LIkQ1Eqk448c70ARZCZAmSzekNoUdtQivkE6ybwnsAn8mx0JBs7X85H54q0ZBghb0ckPOZBzBZBxSkJEAZDZD&since=1507716699&access_token=EAAFlbR4iAoMBACd5dBUMvGP0tZChHV8GUbJ2P9nQJ4p0nYVHzkvQiBjAYNbghUPHKEpjNoCadsx4Rpp3VuTWDIQMYfI4hHaNthbZChNpn7v5Vh6nFJSCrMAMu5V2vZBZA7ZAnlLJVQQRsiMY7qQSZCXTDdcZBoX0nqHQJFsZAloWmdwdvf27hZBsEnmGtwVBZCYmDYZC9RBlcVdGwZDZD&__previous=1',\n",
       "  'next': 'https://graph.facebook.com/v3.3/2221772204572402/posts?limit=25&__paging_token=enc_AdCcBAtPZBhGLieFnVFfRo2ok53tQeSZBT6I0M8qiCeku7crC5Fy1QvR1Ks1ZCyT8ZBmB2ZCWZC0KOlIeDHMmuO9t4BJbYLIAaFq9SZBx8tL2DQDZBJNHQZDZD&access_token=EAAFlbR4iAoMBACd5dBUMvGP0tZChHV8GUbJ2P9nQJ4p0nYVHzkvQiBjAYNbghUPHKEpjNoCadsx4Rpp3VuTWDIQMYfI4hHaNthbZChNpn7v5Vh6nFJSCrMAMu5V2vZBZA7ZAnlLJVQQRsiMY7qQSZCXTDdcZBoX0nqHQJFsZAloWmdwdvf27hZBsEnmGtwVBZCYmDYZC9RBlcVdGwZDZD&until=1480365586'}}"
      ]
     },
     "execution_count": 20,
     "metadata": {},
     "output_type": "execute_result"
    }
   ],
   "source": [
    "posts.json()"
   ]
  },
  {
   "cell_type": "markdown",
   "metadata": {},
   "source": [
    "Caso tenhamos muitos posts em nossa conta, é interessante limitar a quantidade de paginação para evitar estourar o limite de API."
   ]
  },
  {
   "cell_type": "code",
   "execution_count": 22,
   "metadata": {},
   "outputs": [],
   "source": [
    "pagination = 3"
   ]
  },
  {
   "cell_type": "markdown",
   "metadata": {},
   "source": [
    "Agora podemos fazer um loop para ler os resultados das próximas páginas e adicionar os posts a lista que criamos."
   ]
  },
  {
   "cell_type": "code",
   "execution_count": 27,
   "metadata": {},
   "outputs": [],
   "source": [
    "posts = []\n",
    "page = graph.get_connections(profile[\"id\"], \"posts\")\n",
    "\n",
    "posts.append(page)\n",
    "\n",
    "for number in range(pagination):\n",
    "    page = requests.get(page[\"paging\"][\"next\"]).json()\n",
    "    posts.append(page)"
   ]
  },
  {
   "cell_type": "code",
   "execution_count": 28,
   "metadata": {},
   "outputs": [
    {
     "data": {
      "text/plain": [
       "4"
      ]
     },
     "execution_count": 28,
     "metadata": {},
     "output_type": "execute_result"
    }
   ],
   "source": [
    "len(posts)"
   ]
  },
  {
   "cell_type": "code",
   "execution_count": 29,
   "metadata": {
    "scrolled": true
   },
   "outputs": [
    {
     "data": {
      "text/plain": [
       "{'data': [{'message': 'Uma ótima dica para quem quer aprender um pouco mais sobre o mundo de tecnologia, são os cursos da Alura Cursos Online.  \\n\\nAproveita essa oportunidade, confere esse  curso de Machine Learning no Marketing Digital que tive o prazer de construir com essa galera.',\n",
       "   'created_time': '2019-05-09T23:46:30+0000',\n",
       "   'id': '2221772204572402_2213959718686984'},\n",
       "  {'message': '\"...a educação das crianças não se limita a memorizar informações e fatos. O conhecimento existe em um contexto, numa abordagem que, necessariamente, envolve o desenvolvimento emocional, social, intelectual, moral e físico do aluno.\"',\n",
       "   'created_time': '2019-01-08T10:16:24+0000',\n",
       "   'id': '2221772204572402_2037517616331196'},\n",
       "  {'message': 'Sera se agora temos pote de bitcoin no final do arco-íris? #home #sp',\n",
       "   'created_time': '2018-11-24T21:38:09+0000',\n",
       "   'id': '2221772204572402_1975631722519786'},\n",
       "  {'message': 'A culpa é dos quadrúpedes, espera, é dos anfíbios, digo é da direita, me enganei é da esquerda, e assim vai.',\n",
       "   'created_time': '2018-10-16T23:28:26+0000',\n",
       "   'id': '2221772204572402_1922999594449666'},\n",
       "  {'created_time': '2018-10-01T09:45:39+0000',\n",
       "   'id': '2221772204572402_1903323496417276'},\n",
       "  {'message': 'O texto é curto, mas a mensagem é clara.',\n",
       "   'created_time': '2018-09-08T20:30:15+0000',\n",
       "   'id': '2221772204572402_1876787345737558'},\n",
       "  {'message': 'Projeto Jarbas\\n-Etapa 1✔\\nControlar tv e ar condicionado por infravermelho.',\n",
       "   'created_time': '2018-07-15T14:00:48+0000',\n",
       "   'id': '2221772204572402_1791821927567434'},\n",
       "  {'message': 'Levantando algumas possibilidades do que fazer com esse Raspberry:\\n\\na) Fazer um fliperama.\\nb) Criar a versão brasileira do Jarvis.\\nc) Conquistar um país pequeno.\\nd) Competir com o Elon Musk em algum mercado.',\n",
       "   'created_time': '2018-06-08T00:01:58+0000',\n",
       "   'id': '2221772204572402_1737361263013501'},\n",
       "  {'created_time': '2018-05-31T00:39:45+0000',\n",
       "   'id': '2221772204572402_1729551087127852'},\n",
       "  {'message': 'Transmissão ao vivo aqui no Facebook, imperdível!',\n",
       "   'created_time': '2018-05-16T18:52:46+0000',\n",
       "   'id': '2221772204572402_1714616945287933'},\n",
       "  {'created_time': '2018-05-03T00:44:20+0000',\n",
       "   'id': '2221772204572402_1700876173328677'},\n",
       "  {'created_time': '2018-04-06T22:02:48+0000',\n",
       "   'id': '2221772204572402_1674079516008343'},\n",
       "  {'message': 'Sensacional!',\n",
       "   'created_time': '2018-04-04T22:15:02+0000',\n",
       "   'id': '2221772204572402_1672077969541831'},\n",
       "  {'created_time': '2018-03-26T17:49:57+0000',\n",
       "   'id': '2221772204572402_1662777673805194'},\n",
       "  {'created_time': '2018-03-24T23:52:29+0000',\n",
       "   'id': '2221772204572402_1661052400644388'},\n",
       "  {'created_time': '2018-03-20T11:58:39+0000',\n",
       "   'id': '2221772204572402_1656478017768493'},\n",
       "  {'message': 'O hacker do mal é o próximo desempregado. Não precisa invadir mais nada, basta perguntar ao usuário (solicitar acesso a suas informações), que ele te diz tudo.',\n",
       "   'created_time': '2018-03-18T14:29:49+0000',\n",
       "   'id': '2221772204572402_1654523967963898'},\n",
       "  {'message': 'Genial!',\n",
       "   'created_time': '2018-01-26T20:39:02+0000',\n",
       "   'id': '2221772204572402_1600852849997677'},\n",
       "  {'message': 'Parece que o Google tirou 10 no Teste de Turing.',\n",
       "   'created_time': '2017-12-28T21:10:40+0000',\n",
       "   'id': '2221772204572402_1572751302807832'},\n",
       "  {'created_time': '2017-12-14T18:42:16+0000',\n",
       "   'id': '2221772204572402_1559863560763273'},\n",
       "  {'created_time': '2017-11-17T13:55:20+0000',\n",
       "   'id': '2221772204572402_1532917540124542'},\n",
       "  {'message': 'Stay hungry, stay foolish! #Data #MuitoData #DatacomBorra',\n",
       "   'created_time': '2017-11-03T20:47:14+0000',\n",
       "   'id': '2221772204572402_1520385028044460'},\n",
       "  {'created_time': '2017-10-29T02:10:21+0000',\n",
       "   'id': '2221772204572402_1515234481892848'},\n",
       "  {'created_time': '2017-10-28T18:57:27+0000',\n",
       "   'id': '2221772204572402_1514971051919191'},\n",
       "  {'message': 'Python API Teste - FIA 2017',\n",
       "   'created_time': '2017-10-18T22:00:09+0000',\n",
       "   'id': '2221772204572402_1506073439475619'}],\n",
       " 'paging': {'previous': 'https://graph.facebook.com/v3.3/2221772204572402/posts?since=1557445590&access_token=EAAFlbR4iAoMBACd5dBUMvGP0tZChHV8GUbJ2P9nQJ4p0nYVHzkvQiBjAYNbghUPHKEpjNoCadsx4Rpp3VuTWDIQMYfI4hHaNthbZChNpn7v5Vh6nFJSCrMAMu5V2vZBZA7ZAnlLJVQQRsiMY7qQSZCXTDdcZBoX0nqHQJFsZAloWmdwdvf27hZBsEnmGtwVBZCYmDYZC9RBlcVdGwZDZD&limit=25&__paging_token=enc_AdBCNS2kRQKJ33lfv1V2TtZAJWZCV8aMvjOj8dipPavU24MQVbPU9qEhN12fcoxlvMEfiJtgrkEQnvuByq4lehYEldq4vnDNds4i6O5c1PRQBhYgZDZD&__previous=1',\n",
       "  'next': 'https://graph.facebook.com/v3.3/2221772204572402/posts?access_token=EAAFlbR4iAoMBACd5dBUMvGP0tZChHV8GUbJ2P9nQJ4p0nYVHzkvQiBjAYNbghUPHKEpjNoCadsx4Rpp3VuTWDIQMYfI4hHaNthbZChNpn7v5Vh6nFJSCrMAMu5V2vZBZA7ZAnlLJVQQRsiMY7qQSZCXTDdcZBoX0nqHQJFsZAloWmdwdvf27hZBsEnmGtwVBZCYmDYZC9RBlcVdGwZDZD&limit=25&until=1508364009&__paging_token=enc_AdCEOq4T0f7EZCNfa4uo9QsCij1wfxi3gq5Ye33RaEdvrrQMfVsc9lZBlQApKlMKrDi3S7yq3k3cFSDcSzRLXJ5SoIScq57QZCZAxSziZAjI3oecsbgZDZD'}}"
      ]
     },
     "execution_count": 29,
     "metadata": {},
     "output_type": "execute_result"
    }
   ],
   "source": [
    "posts[0]"
   ]
  },
  {
   "cell_type": "markdown",
   "metadata": {},
   "source": [
    "# Eventos"
   ]
  },
  {
   "cell_type": "markdown",
   "metadata": {},
   "source": [
    "Através da Graph API podemos acessar também os eventos que o usuário está relacionado."
   ]
  },
  {
   "cell_type": "code",
   "execution_count": 107,
   "metadata": {},
   "outputs": [
    {
     "data": {
      "text/plain": [
       "\"\\nfor event in events:\\n    print(event['declined_count'])\\n\""
      ]
     },
     "execution_count": 107,
     "metadata": {},
     "output_type": "execute_result"
    }
   ],
   "source": [
    "event_ids = ['454585172012972']\n",
    "events = graph.get_objects(ids=event_ids, fields='attending_count,declined_count,description')"
   ]
  },
  {
   "cell_type": "code",
   "execution_count": 108,
   "metadata": {},
   "outputs": [
    {
     "data": {
      "text/plain": [
       "{'454585172012972': {'attending_count': 124,\n",
       "  'declined_count': 0,\n",
       "  'description': 'ALGUMA COISA ACONTECEU.\\n\\nNão sabemos como, nem quando, nem onde.\\n\\nMas, ao longo dos ultimos 500 anos, muita coisa aconteceu com você, Brasil.\\n\\nPensa que está com problemas? Piorando a cada dia? Não tem mais esperança de crescer? Você não está doente, Brasil. Mas também notamos que não está bem.\\n\\nVocê só precisa de ajuda, Brasil. E precisamos te entender para poder te ajudar.\\n\\nNos conta, o que foi?\\n\\nAgendamos uma sessão no divã para você! Dia 13 de Julho, no Teatro Raul Cortez, em São Paulo!\\n\\nEstá pronto para essa sessão com a BRASA? Saiba mais e se prepare para o nosso lançamento em https://www.brasaemcasa.gobrasa.org/',\n",
       "  'id': '454585172012972'}}"
      ]
     },
     "execution_count": 108,
     "metadata": {},
     "output_type": "execute_result"
    }
   ],
   "source": [
    "events"
   ]
  },
  {
   "cell_type": "markdown",
   "metadata": {},
   "source": [
    "# Lugares"
   ]
  },
  {
   "cell_type": "markdown",
   "metadata": {},
   "source": [
    "A API de pesquisa  também é liberada para uso dentro da Graph API"
   ]
  },
  {
   "cell_type": "code",
   "execution_count": 39,
   "metadata": {},
   "outputs": [],
   "source": [
    "places = graph.search(type='place',\n",
    "                      q=\"Parque Ibirapuera\",\n",
    "                      fields='name,location')"
   ]
  },
  {
   "cell_type": "code",
   "execution_count": 40,
   "metadata": {},
   "outputs": [
    {
     "data": {
      "text/plain": [
       "{'data': [{'name': 'Parque Ibirapuera',\n",
       "   'location': {'city': 'São Paulo',\n",
       "    'country': 'Brazil',\n",
       "    'latitude': -23.58853,\n",
       "    'longitude': -46.6519,\n",
       "    'state': 'SP',\n",
       "    'street': 'Parque Ibirapuera',\n",
       "    'zip': '04002-010'},\n",
       "   'id': '824746247674354'},\n",
       "  {'name': 'Parque Ibirapuera Conservação',\n",
       "   'location': {'city': 'São Paulo',\n",
       "    'country': 'Brazil',\n",
       "    'latitude': -23.583265668999,\n",
       "    'longitude': -46.662964224815,\n",
       "    'state': 'SP',\n",
       "    'street': 'Av. República do Líbano, 331',\n",
       "    'zip': '04501-000'},\n",
       "   'id': '224494264231112'},\n",
       "  {'name': 'Parque Viva',\n",
       "   'location': {'city': 'La Guácima',\n",
       "    'country': 'Costa Rica',\n",
       "    'latitude': 9.9727564907748,\n",
       "    'longitude': -84.249570846558,\n",
       "    'street': '124',\n",
       "    'zip': '20105'},\n",
       "   'id': '613918685360759'},\n",
       "  {'name': 'Parque Ibirapuera',\n",
       "   'location': {'city': 'São Paulo',\n",
       "    'country': 'Brazil',\n",
       "    'latitude': -23.7306199,\n",
       "    'longitude': -46.70499,\n",
       "    'state': 'SP',\n",
       "    'street': 'Parque Ibirapuera',\n",
       "    'zip': '04369-080'},\n",
       "   'id': '386957704832457'},\n",
       "  {'name': 'Parque Ibirapuera!!!S.Paulo',\n",
       "   'location': {'city': 'São Paulo',\n",
       "    'country': 'Brazil',\n",
       "    'latitude': -23.474798350001,\n",
       "    'longitude': -46.64480885,\n",
       "    'state': 'SP'},\n",
       "   'id': '379459739096294'},\n",
       "  {'name': 'Parque do Ibirapuera, caminhando!!!',\n",
       "   'location': {'city': 'São Paulo',\n",
       "    'country': 'Brazil',\n",
       "    'latitude': -23.535831485714,\n",
       "    'longitude': -46.564532285714,\n",
       "    'state': 'SP',\n",
       "    'zip': '03069-070'},\n",
       "   'id': '217775108359760'},\n",
       "  {'name': 'Parque do Ibirapuera, Sao Paulo,Capital',\n",
       "   'location': {'city': 'São Paulo',\n",
       "    'country': 'Brazil',\n",
       "    'latitude': -23.70902,\n",
       "    'longitude': -46.69991,\n",
       "    'state': 'SP',\n",
       "    'zip': '04801-010'},\n",
       "   'id': '548148105379091'},\n",
       "  {'name': 'Parque Do Ibirapuera E Suas Atrações;',\n",
       "   'location': {'city': 'São Paulo',\n",
       "    'country': 'Brazil',\n",
       "    'latitude': -23.5430587,\n",
       "    'longitude': -46.6387233,\n",
       "    'state': 'SP'},\n",
       "   'id': '1597166150529861'},\n",
       "  {'name': 'Parque do Ibirapuera .com.br',\n",
       "   'location': {'city': 'São Paulo',\n",
       "    'country': 'Brazil',\n",
       "    'latitude': -23.593556775559,\n",
       "    'longitude': -46.660304244752,\n",
       "    'state': 'SP',\n",
       "    'street': 'Av. IV Centenário',\n",
       "    'zip': '04030-000'},\n",
       "   'id': '650431511641533'},\n",
       "  {'name': 'Parque Ibirapuera',\n",
       "   'location': {'latitude': -21.316613513066, 'longitude': -47.734645944389},\n",
       "   'id': '648216098961405'},\n",
       "  {'name': 'Parque do Ibirapuera - Museo Mac',\n",
       "   'location': {'city': 'São Paulo',\n",
       "    'country': 'Brazil',\n",
       "    'latitude': -23.588511814217,\n",
       "    'located_in': '224494264231112',\n",
       "    'longitude': -46.658202943766,\n",
       "    'state': 'SP',\n",
       "    'street': 'Avenida Pedro Álvares Cabral, 1301 - Parque Ibirapuera',\n",
       "    'zip': '04094-050'},\n",
       "   'id': '509386309151703'},\n",
       "  {'name': 'Parque Do Ibirapuera - Prova De Motocicleta',\n",
       "   'location': {'city': 'São Paulo',\n",
       "    'country': 'Brazil',\n",
       "    'latitude': -23.590337372733,\n",
       "    'longitude': -46.652463979347,\n",
       "    'state': 'SP',\n",
       "    'street': 'Av. Pedro Álvares Cabral'},\n",
       "   'id': '1698307720409861'},\n",
       "  {'name': 'Parque do Ibirapuera - Portão Viveiro Manequinho Lopes',\n",
       "   'location': {'city': 'São Paulo',\n",
       "    'country': 'Brazil',\n",
       "    'latitude': -23.587844703013,\n",
       "    'longitude': -46.663521776628,\n",
       "    'state': 'SP',\n",
       "    'street': 'Avenida República do Líbano',\n",
       "    'zip': '04502-100'},\n",
       "   'id': '1636887066565732'},\n",
       "  {'name': 'Parque Ibirapuera',\n",
       "   'location': {'city': 'Parque Ibirapuera',\n",
       "    'country': 'Brazil',\n",
       "    'latitude': -16.81267,\n",
       "    'longitude': -49.3356,\n",
       "    'state': 'GO',\n",
       "    'street': 'Avenida Central',\n",
       "    'zip': '74960-560'},\n",
       "   'id': '204692520140065'},\n",
       "  {'name': 'Fonte Do Ibirapuera',\n",
       "   'location': {'city': 'São Paulo',\n",
       "    'country': 'Brazil',\n",
       "    'latitude': -23.581224343579,\n",
       "    'located_in': '224494264231112',\n",
       "    'longitude': -46.660103241011,\n",
       "    'state': 'SP',\n",
       "    'street': 'avenida pedro alvares cabral 201'},\n",
       "   'id': '1013154738735606'},\n",
       "  {'name': 'Marquise do Ibirapuera – Parque do Ibirapuera',\n",
       "   'location': {'city': 'São Paulo',\n",
       "    'country': 'Brazil',\n",
       "    'latitude': -23.587763459135,\n",
       "    'longitude': -46.653573685352,\n",
       "    'state': 'SP',\n",
       "    'street': 'Parque do Ibirapuera'},\n",
       "   'id': '1357845447628366'},\n",
       "  {'name': 'Portão 6-Parque do Ibirapuera',\n",
       "   'location': {'city': 'São Paulo',\n",
       "    'country': 'Brazil',\n",
       "    'latitude': -23.593710098827,\n",
       "    'longitude': -46.660278510384,\n",
       "    'state': 'SP',\n",
       "    'street': 'Parque Ibirapuera',\n",
       "    'zip': '04030-070'},\n",
       "   'id': '1827409570819550'},\n",
       "  {'name': 'Parque Ibirapuera Museu Afro Brasil',\n",
       "   'location': {'city': 'São Paulo',\n",
       "    'country': 'Brazil',\n",
       "    'latitude': -23.5906831,\n",
       "    'longitude': -46.6509824,\n",
       "    'state': 'SP',\n",
       "    'zip': '04080-000'},\n",
       "   'id': '200916413857543'},\n",
       "  {'name': 'Marquise - Parque Ibirapuera',\n",
       "   'location': {'city': 'São Paulo',\n",
       "    'country': 'Brazil',\n",
       "    'latitude': -23.587613464065,\n",
       "    'longitude': -46.656197141035,\n",
       "    'state': 'SP',\n",
       "    'street': 'Avenida Pedro Álvares Cabral',\n",
       "    'zip': '04653-210'},\n",
       "   'id': '1375260099370195'},\n",
       "  {'name': 'Bosque da Leitura - Parque do Ibirapuera',\n",
       "   'location': {'city': 'São Paulo',\n",
       "    'country': 'Brazil',\n",
       "    'latitude': -23.591666188753,\n",
       "    'located_in': '224494264231112',\n",
       "    'longitude': -46.662487602337,\n",
       "    'state': 'SP',\n",
       "    'street': 'Parque Ibirapuera',\n",
       "    'zip': '04030-070'},\n",
       "   'id': '828867957142507'}]}"
      ]
     },
     "execution_count": 40,
     "metadata": {},
     "output_type": "execute_result"
    }
   ],
   "source": [
    "places"
   ]
  },
  {
   "cell_type": "code",
   "execution_count": 41,
   "metadata": {},
   "outputs": [
    {
     "data": {
      "text/plain": [
       "{'name': 'Parque Ibirapuera',\n",
       " 'location': {'city': 'São Paulo',\n",
       "  'country': 'Brazil',\n",
       "  'latitude': -23.58853,\n",
       "  'longitude': -46.6519,\n",
       "  'state': 'SP',\n",
       "  'street': 'Parque Ibirapuera',\n",
       "  'zip': '04002-010'},\n",
       " 'id': '824746247674354'}"
      ]
     },
     "execution_count": 41,
     "metadata": {},
     "output_type": "execute_result"
    }
   ],
   "source": [
    "places['data'][0]"
   ]
  },
  {
   "cell_type": "markdown",
   "metadata": {},
   "source": [
    "# Trabalhando com páginas"
   ]
  },
  {
   "cell_type": "markdown",
   "metadata": {},
   "source": [
    "Os acessos as páginas constumam ser mais amplos do que acesso de usuários, para isso vamos utilizar o token gerado para páginas e testar comandos que são bloqueados para usuários."
   ]
  },
  {
   "cell_type": "code",
   "execution_count": 94,
   "metadata": {},
   "outputs": [],
   "source": [
    "page_token = 'insira o token da pagina aqui'"
   ]
  },
  {
   "cell_type": "code",
   "execution_count": 95,
   "metadata": {},
   "outputs": [],
   "source": [
    "page_graph = fb.GraphAPI(page_token)"
   ]
  },
  {
   "cell_type": "markdown",
   "metadata": {},
   "source": [
    "Assim como fizemos para usuários podemos fazer chamadas em páginas."
   ]
  },
  {
   "cell_type": "code",
   "execution_count": 96,
   "metadata": {},
   "outputs": [],
   "source": [
    "profile = page_graph.get_object(\"454298752041086\")"
   ]
  },
  {
   "cell_type": "code",
   "execution_count": 97,
   "metadata": {},
   "outputs": [
    {
     "data": {
      "text/plain": [
       "{'name': 'Aulas Python - Júlio Oliveira', 'id': '454298752041086'}"
      ]
     },
     "execution_count": 97,
     "metadata": {},
     "output_type": "execute_result"
    }
   ],
   "source": [
    "profile"
   ]
  },
  {
   "cell_type": "markdown",
   "metadata": {},
   "source": [
    "Agora podemos testar a postagem de uma mensagem no feed."
   ]
  },
  {
   "cell_type": "code",
   "execution_count": 55,
   "metadata": {},
   "outputs": [
    {
     "data": {
      "text/plain": [
       "{'id': '454298752041086_454303582040603'}"
      ]
     },
     "execution_count": 55,
     "metadata": {},
     "output_type": "execute_result"
    }
   ],
   "source": [
    "page_graph.put_object(\"454298752041086\", \"feed\", message=\"Postando na minha página!\")"
   ]
  },
  {
   "cell_type": "markdown",
   "metadata": {},
   "source": [
    "O código abaixo posta uma foto que está na máquina no feed de notícias."
   ]
  },
  {
   "cell_type": "code",
   "execution_count": 57,
   "metadata": {},
   "outputs": [
    {
     "data": {
      "text/plain": [
       "{'id': '454307575373537', 'post_id': '454298752041086_454307575373537'}"
      ]
     },
     "execution_count": 57,
     "metadata": {},
     "output_type": "execute_result"
    }
   ],
   "source": [
    "page_graph.put_photo(image=open('mat-velloso-matvelloso-difference-between-machine-learning-and-al-if-37995538.png', 'rb'),\n",
    "                message='True!')"
   ]
  },
  {
   "cell_type": "markdown",
   "metadata": {},
   "source": [
    "Podemos fazer um comentário na foto que acabamos de postar"
   ]
  },
  {
   "cell_type": "code",
   "execution_count": 58,
   "metadata": {},
   "outputs": [
    {
     "data": {
      "text/plain": [
       "{'id': '454307575373537_454308155373479'}"
      ]
     },
     "execution_count": 58,
     "metadata": {},
     "output_type": "execute_result"
    }
   ],
   "source": [
    "page_graph.put_object(parent_object='454298752041086_454307575373537', connection_name='comments',\n",
    "                  message='Primeiro!')"
   ]
  },
  {
   "cell_type": "markdown",
   "metadata": {},
   "source": [
    "E podemos responder o comentário que fizemos."
   ]
  },
  {
   "cell_type": "code",
   "execution_count": 59,
   "metadata": {},
   "outputs": [
    {
     "data": {
      "text/plain": [
       "{'id': '454307575373537_454309002040061'}"
      ]
     },
     "execution_count": 59,
     "metadata": {},
     "output_type": "execute_result"
    }
   ],
   "source": [
    "page_graph.put_comment(object_id='454307575373537_454308155373479', message='haha')"
   ]
  },
  {
   "cell_type": "markdown",
   "metadata": {},
   "source": [
    "Agora que verificamos a possibilidade de recuperar posts e fazer comentários, podemos automatizar um fluxo para ler os comentários que não foram respondidos e responder automaticamente."
   ]
  },
  {
   "cell_type": "code",
   "execution_count": 61,
   "metadata": {},
   "outputs": [],
   "source": [
    "comments = page_graph.get_connections(id='454298752041086_454307575373537', connection_name='comments')"
   ]
  },
  {
   "cell_type": "code",
   "execution_count": 67,
   "metadata": {},
   "outputs": [
    {
     "data": {
      "text/plain": [
       "{'data': [{'created_time': '2019-05-15T00:17:41+0000',\n",
       "   'from': {'name': 'Aulas Python - Júlio Oliveira', 'id': '454298752041086'},\n",
       "   'message': 'Primeiro!',\n",
       "   'id': '454307575373537_454308155373479'}],\n",
       " 'paging': {'cursors': {'before': 'MQZDZD', 'after': 'MQZDZD'}}}"
      ]
     },
     "execution_count": 67,
     "metadata": {},
     "output_type": "execute_result"
    }
   ],
   "source": [
    "comments"
   ]
  },
  {
   "cell_type": "code",
   "execution_count": null,
   "metadata": {},
   "outputs": [],
   "source": [
    "respondidos = []"
   ]
  },
  {
   "cell_type": "code",
   "execution_count": 80,
   "metadata": {},
   "outputs": [
    {
     "name": "stdout",
     "output_type": "stream",
     "text": [
      "Comentário respondido:  454307575373537_454316182039343\n"
     ]
    }
   ],
   "source": [
    "comments = page_graph.get_connections(id='454298752041086_454307575373537', connection_name='comments')\n",
    "\n",
    "for comment in comments['data']:\n",
    "    if comment['id'] not in respondidos:\n",
    "        page_graph.put_comment(object_id=comment['id'], \n",
    "                           message='Obrigado pelo comentário, entraremos em contato.')\n",
    "        respondidos.append(comment['id'])\n",
    "        print(\"Comentário respondido: \", comment['id'])"
   ]
  },
  {
   "cell_type": "markdown",
   "metadata": {},
   "source": [
    "Por último vamos inserir um pouco mais de inteligência no nosso código e traduzir a nossa resposta automaticamente para o idioma do comentário."
   ]
  },
  {
   "cell_type": "code",
   "execution_count": 81,
   "metadata": {},
   "outputs": [],
   "source": [
    "from textblob import TextBlobxtBlob"
   ]
  },
  {
   "cell_type": "code",
   "execution_count": 92,
   "metadata": {},
   "outputs": [
    {
     "name": "stdout",
     "output_type": "stream",
     "text": [
      "Comentário respondido:  454307575373537_454321918705436\n"
     ]
    }
   ],
   "source": [
    "comments = page_graph.get_connections(id='454298752041086_454307575373537', connection_name='comments')\n",
    "\n",
    "for comment in comments['data']:\n",
    "    if comment['id'] not in respondidos:\n",
    "        idioma = TextBlob(comment['message']).detect_language()\n",
    "        \n",
    "        if idioma != 'pt':\n",
    "            resposta = TextBlob('Obrigado pelo comentário, entraremos em contato.').translate(to=idioma).raw\n",
    "        else:\n",
    "            resposta = 'Obrigado pelo comentário, entraremos em contato.'\n",
    "        \n",
    "        page_graph.put_comment(object_id=comment['id'], \n",
    "                           message=resposta)\n",
    "        \n",
    "        respondidos.append(comment['id'])\n",
    "        print(\"Comentário respondido: \", comment['id'])"
   ]
  }
 ],
 "metadata": {
  "kernelspec": {
   "display_name": "Python 3",
   "language": "python",
   "name": "python3"
  },
  "language_info": {
   "codemirror_mode": {
    "name": "ipython",
    "version": 3
   },
   "file_extension": ".py",
   "mimetype": "text/x-python",
   "name": "python",
   "nbconvert_exporter": "python",
   "pygments_lexer": "ipython3",
   "version": "3.7.1"
  }
 },
 "nbformat": 4,
 "nbformat_minor": 2
}
