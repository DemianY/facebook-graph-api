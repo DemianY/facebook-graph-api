{
 "cells": [
  {
   "cell_type": "markdown",
   "metadata": {},
   "source": [
    "# Criando um novo aplicativo"
   ]
  },
  {
   "cell_type": "markdown",
   "metadata": {},
   "source": [
    "Para criar um novo aplicativo é necessário navegar até o endereço https://developers.facebook.com/, caso você ainda não tenha uma conta de desenvolvedor deverá solicitar uma."
   ]
  },
  {
   "cell_type": "markdown",
   "metadata": {},
   "source": [
    "Após a conta de desenvolvedor criada, basta seguir os passos abaixo para criar um novo aplicativo e gerar o token de conexão necessário."
   ]
  },
  {
   "cell_type": "markdown",
   "metadata": {},
   "source": [
    "![](https://github.com/jcalvesoliveira/facebook-graph-api/blob/master/prints/Screenshot.png?raw=true)"
   ]
  },
  {
   "cell_type": "markdown",
   "metadata": {},
   "source": [
    "![](https://github.com/jcalvesoliveira/facebook-graph-api/blob/master/prints/Screenshot_1.png?raw=true)"
   ]
  },
  {
   "cell_type": "markdown",
   "metadata": {},
   "source": [
    "![](https://github.com/jcalvesoliveira/facebook-graph-api/blob/master/prints/Screenshot_2.png?raw=true)"
   ]
  },
  {
   "cell_type": "markdown",
   "metadata": {},
   "source": [
    "![](https://github.com/jcalvesoliveira/facebook-graph-api/blob/master/prints/Screenshot_3.png?raw=true)"
   ]
  },
  {
   "cell_type": "markdown",
   "metadata": {},
   "source": [
    "![](https://github.com/jcalvesoliveira/facebook-graph-api/blob/master/prints/Screenshot_10.png?raw=true)"
   ]
  },
  {
   "cell_type": "markdown",
   "metadata": {},
   "source": [
    "![](https://github.com/jcalvesoliveira/facebook-graph-api/blob/master/prints/Screenshot_4.png?raw=true)"
   ]
  },
  {
   "cell_type": "markdown",
   "metadata": {},
   "source": [
    "![](https://github.com/jcalvesoliveira/facebook-graph-api/blob/master/prints/Screenshot_5.png?raw=true)"
   ]
  },
  {
   "cell_type": "markdown",
   "metadata": {},
   "source": [
    "![](https://github.com/jcalvesoliveira/facebook-graph-api/blob/master/prints/Screenshot_6.png?raw=true)"
   ]
  },
  {
   "cell_type": "markdown",
   "metadata": {},
   "source": [
    "![](https://github.com/jcalvesoliveira/facebook-graph-api/blob/master/prints/Screenshot_7.png?raw=true)"
   ]
  },
  {
   "cell_type": "markdown",
   "metadata": {},
   "source": [
    "![](https://github.com/jcalvesoliveira/facebook-graph-api/blob/master/prints/Screenshot_8.png?raw=true)"
   ]
  },
  {
   "cell_type": "markdown",
   "metadata": {},
   "source": [
    "![](https://github.com/jcalvesoliveira/facebook-graph-api/blob/master/prints/Screenshot_9.png?raw=true)"
   ]
  }
 ],
 "metadata": {
  "kernelspec": {
   "display_name": "Python 3",
   "language": "python",
   "name": "python3"
  },
  "language_info": {
   "codemirror_mode": {
    "name": "ipython",
    "version": 3
   },
   "file_extension": ".py",
   "mimetype": "text/x-python",
   "name": "python",
   "nbconvert_exporter": "python",
   "pygments_lexer": "ipython3",
   "version": "3.7.1"
  }
 },
 "nbformat": 4,
 "nbformat_minor": 2
}
